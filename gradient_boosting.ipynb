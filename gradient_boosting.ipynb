{
 "cells": [
  {
   "cell_type": "code",
   "execution_count": 1,
   "metadata": {},
   "outputs": [],
   "source": [
    "import numpy as np\n",
    "import pandas as pd\n",
    "from sklearn.model_selection import train_test_split\n",
    "from sklearn.ensemble import GradientBoostingClassifier\n",
    "from sklearn.tree import DecisionTreeClassifier\n",
    "from sklearn.model_selection import RandomizedSearchCV"
   ]
  },
  {
   "cell_type": "code",
   "execution_count": 2,
   "metadata": {},
   "outputs": [],
   "source": [
    "cols = [0, 1, 5, 7, 11, 12, 13]+[i for i in range(16, 33)]\n",
    "train_data = pd.read_csv('train.csv', header=0, usecols=cols)\n",
    "test_data = pd.read_csv('test.csv', header=0, usecols=cols[:-1])"
   ]
  },
  {
   "cell_type": "code",
   "execution_count": 3,
   "metadata": {},
   "outputs": [],
   "source": [
    "# replicate data because label 1 only has 1 entry\n",
    "train_data = train_data.append([train_data[train_data.label == 1]]*9, ignore_index=True)"
   ]
  },
  {
   "cell_type": "code",
   "execution_count": 4,
   "metadata": {},
   "outputs": [],
   "source": [
    "def find_best_gbc_model(X, y):\n",
    "    X = X[['num-comments', 'feedback-karma', 'ratings-given', 'ratings-received',\n",
    "           'num-authors', 'prev-games', 'fun-average', 'innovation-average', 'theme-average',\n",
    "           'graphics-average', 'audio-average', 'humor-average', 'mood-average', 'fun-rank',\n",
    "           'innovation-rank', 'theme-rank', 'graphics-rank', 'audio-rank', 'humor-rank', 'mood-rank']]\n",
    "    X_train, X_test, y_train, y_test = train_test_split(X, y, test_size=0.2)\n",
    "    \n",
    "    random_grid = {\n",
    "        'n_estimators': [300, 400, 500, 600],\n",
    "        'learning_rate' : [0.25, 0.1, 0.05],\n",
    "        'max_depth': [4, 5, 6, 7, 8],\n",
    "        'min_samples_split': [0.2, 0.3, 0.4, 0.5],\n",
    "        'min_samples_leaf': [0.1, 0.2, 0.3],\n",
    "        'max_features': ['sqrt']\n",
    "    }\n",
    "    gbc_random = RandomizedSearchCV(estimator = GradientBoostingClassifier(), \n",
    "                                   param_distributions = random_grid, n_iter = 200,\n",
    "                                   cv = 3, verbose=2, random_state=42, n_jobs = -1).fit(X_train, y_train)\n",
    "    print(gbc_random.best_params_)\n",
    "    print('training accuracy:', gbc_random.score(X_train, y_train))\n",
    "    print('test accuracy:', gbc_random.score(X_test, y_test))"
   ]
  },
  {
   "cell_type": "code",
   "execution_count": 5,
   "metadata": {},
   "outputs": [
    {
     "name": "stdout",
     "output_type": "stream",
     "text": [
      "Fitting 3 folds for each of 200 candidates, totalling 600 fits\n"
     ]
    },
    {
     "name": "stderr",
     "output_type": "stream",
     "text": [
      "[Parallel(n_jobs=-1)]: Using backend LokyBackend with 4 concurrent workers.\n",
      "[Parallel(n_jobs=-1)]: Done  33 tasks      | elapsed:  6.2min\n",
      "[Parallel(n_jobs=-1)]: Done 154 tasks      | elapsed: 24.1min\n",
      "[Parallel(n_jobs=-1)]: Done 357 tasks      | elapsed: 58.8min\n",
      "[Parallel(n_jobs=-1)]: Done 600 out of 600 | elapsed: 102.7min finished\n"
     ]
    },
    {
     "name": "stdout",
     "output_type": "stream",
     "text": [
      "{'n_estimators': 400, 'min_samples_split': 0.3, 'min_samples_leaf': 0.1, 'max_features': 'sqrt', 'max_depth': 6, 'learning_rate': 0.05}\n",
      "training accuracy: 0.957756902931967\n",
      "test accuracy: 0.9439890710382514\n"
     ]
    }
   ],
   "source": [
    "find_best_gbc_model(train_data, train_data['label'])"
   ]
  },
  {
   "cell_type": "code",
   "execution_count": 7,
   "metadata": {},
   "outputs": [],
   "source": [
    "def fit_best_gbc_model(X, y, params, cv=False):\n",
    "    X = X[['num-comments', 'feedback-karma', 'ratings-given', 'ratings-received',\n",
    "       'num-authors', 'prev-games', 'fun-average', 'innovation-average', 'theme-average',\n",
    "       'graphics-average', 'audio-average', 'humor-average', 'mood-average', 'fun-rank',\n",
    "       'innovation-rank', 'theme-rank', 'graphics-rank', 'audio-rank', 'humor-rank', 'mood-rank']]\n",
    "    if cv:\n",
    "        X_train, X_test, y_train, y_test = train_test_split(X, y, test_size=0.33)\n",
    "        gbc = GradientBoostingClassifier(**params).fit(X_train, y_train)\n",
    "        print('training accuracy:', gbc.score(X_train, y_train))\n",
    "        print('testing accuracy:', gbc.score(X_test, y_test))\n",
    "    else:\n",
    "        gbc = GradientBoostingClassifier(**params).fit(X, y)\n",
    "        print('training accuracy:', gbc.score(X, y))\n",
    "    return gbc"
   ]
  },
  {
   "cell_type": "code",
   "execution_count": 33,
   "metadata": {},
   "outputs": [
    {
     "name": "stdout",
     "output_type": "stream",
     "text": [
      "training accuracy: 0.9582820968256137\n"
     ]
    }
   ],
   "source": [
    "params = {\n",
    "    'n_estimators': 500,\n",
    "    'min_samples_split': 0.2,\n",
    "    'min_samples_leaf': 0.1,\n",
    "    'max_features': 'sqrt',\n",
    "    'max_depth': 6.0,\n",
    "    'learning_rate': 0.05\n",
    "}\n",
    "model = fit_best_gbc_model(train_data, train_data['label'], params, cv=False)"
   ]
  },
  {
   "cell_type": "code",
   "execution_count": 29,
   "metadata": {},
   "outputs": [],
   "source": [
    "X2 = test_data[['num-comments', 'feedback-karma', 'ratings-given', 'ratings-received', \n",
    "                'num-authors', 'prev-games', 'fun-average', 'innovation-average', 'theme-average', \n",
    "                'graphics-average', 'audio-average', 'humor-average', 'mood-average', 'fun-rank', \n",
    "                'innovation-rank', 'theme-rank', 'graphics-rank', 'audio-rank', 'humor-rank', 'mood-rank']]"
   ]
  },
  {
   "cell_type": "code",
   "execution_count": 30,
   "metadata": {},
   "outputs": [],
   "source": [
    "predictions = model.predict(X2)"
   ]
  },
  {
   "cell_type": "code",
   "execution_count": 31,
   "metadata": {},
   "outputs": [],
   "source": [
    "result = pd.DataFrame({'id': test_data.id, 'label': predictions}).round().astype('int32')"
   ]
  },
  {
   "cell_type": "code",
   "execution_count": 32,
   "metadata": {},
   "outputs": [],
   "source": [
    "result.to_csv(f'submission_25.csv', index=False)"
   ]
  },
  {
   "cell_type": "code",
   "execution_count": null,
   "metadata": {},
   "outputs": [],
   "source": []
  }
 ],
 "metadata": {
  "kernelspec": {
   "display_name": "Python 3",
   "language": "python",
   "name": "python3"
  },
  "language_info": {
   "codemirror_mode": {
    "name": "ipython",
    "version": 3
   },
   "file_extension": ".py",
   "mimetype": "text/x-python",
   "name": "python",
   "nbconvert_exporter": "python",
   "pygments_lexer": "ipython3",
   "version": "3.7.7"
  }
 },
 "nbformat": 4,
 "nbformat_minor": 4
}
